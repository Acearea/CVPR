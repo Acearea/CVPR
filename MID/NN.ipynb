{
  "cells": [
    {
      "cell_type": "markdown",
      "id": "c2fd7e85",
      "metadata": {
        "id": "c2fd7e85"
      },
      "source": [
        "## Neural Networks"
      ]
    },
    {
      "cell_type": "code",
      "execution_count": 4,
      "id": "af9c3351",
      "metadata": {
        "id": "af9c3351"
      },
      "outputs": [],
      "source": [
        "import numpy as np\n",
        "import matplotlib.pyplot as plt\n",
        "\n",
        "np.random.seed(0)\n",
        "X = np.array([ [0,0], [0,1], [1,0], [1,1] ])\n",
        "Y = np.array([ [1, 0, 0, 0], [0, 1, 0, 0], [0, 1, 0, 0], [1, 0, 0, 0] ])"
      ]
    },
    {
      "cell_type": "code",
      "execution_count": 5,
      "id": "f460d8c7",
      "metadata": {
        "id": "f460d8c7"
      },
      "outputs": [],
      "source": [
        "class NeuralNetwork(object):\n",
        "    def __init__(self):\n",
        "        inputLayerNeurons = 2\n",
        "        hiddenLayer1Neurons = 10\n",
        "        hiddenLayer2Neurons = 8\n",
        "        outLayerNeurons = 4\n",
        "\n",
        "        self.learning_rate = 0.2\n",
        "        self.W_HI1 = np.random.randn(inputLayerNeurons, hiddenLayer1Neurons)\n",
        "        self.W_H1H2 = np.random.randn(hiddenLayer1Neurons, hiddenLayer2Neurons)\n",
        "        self.W_OH2 = np.random.randn(hiddenLayer2Neurons, outLayerNeurons)\n",
        "\n",
        "    def sigmoid(self, x, der=False):\n",
        "        if der == True:\n",
        "            return x * (1-x)\n",
        "        else:\n",
        "            return 1 / (1 + np.exp(-x))\n",
        "\n",
        "    def feedForward(self, X):\n",
        "        hidden_input1 = np.dot(X, self.W_HI1)\n",
        "        self.hidden_output1 = self.sigmoid(hidden_input1)\n",
        "\n",
        "        hidden_input2 = np.dot(self.hidden_output1, self.W_H1H2)\n",
        "        self.hidden_output2 = self.sigmoid(hidden_input2)\n",
        "\n",
        "        output_input = np.dot(self.hidden_output2, self.W_OH2)\n",
        "        pred = self.sigmoid(output_input)\n",
        "\n",
        "        rounded_pred = np.copy(pred)\n",
        "        rounded_pred[rounded_pred > 0.95] = 1\n",
        "        rounded_pred[rounded_pred < 0.05] = 0\n",
        "        return rounded_pred\n",
        "\n",
        "    def backPropagation(self, X, Y, pred):\n",
        "        output_error = Y - pred\n",
        "        output_delta = self.learning_rate * output_error * self.sigmoid(pred, der=True)\n",
        "\n",
        "        hidden_error2 = output_delta.dot(self.W_OH2.T)\n",
        "        hidden_delta2 = self.learning_rate * hidden_error2 * self.sigmoid(self.hidden_output2, der=True)\n",
        "\n",
        "        hidden_error1 = hidden_delta2.dot(self.W_H1H2.T)\n",
        "        hidden_delta1 = self.learning_rate * hidden_error1 * self.sigmoid(self.hidden_output1, der=True)\n",
        "\n",
        "\n",
        "        self.W_HI1 += X.T.dot(hidden_delta1)\n",
        "        self.W_H1H2 += self.hidden_output1.T.dot(hidden_delta2)\n",
        "        self.W_OH2 += self.hidden_output2.T.dot(output_delta)\n",
        "\n",
        "    def train(self, X, Y):\n",
        "        output = self.feedForward(X)\n",
        "        self.backPropagation(X, Y, output)"
      ]
    },
    {
      "cell_type": "code",
      "execution_count": 6,
      "id": "b881dc37",
      "metadata": {
        "colab": {
          "base_uri": "https://localhost:8080/",
          "height": 447
        },
        "id": "b881dc37",
        "outputId": "2991b583-9537-451b-8f46-172a331e1f7c"
      },
      "outputs": [
        {
          "output_type": "execute_result",
          "data": {
            "text/plain": [
              "[<matplotlib.lines.Line2D at 0x7ab65884b2c0>]"
            ]
          },
          "metadata": {},
          "execution_count": 6
        },
        {
          "output_type": "display_data",
          "data": {
            "text/plain": [
              "<Figure size 640x480 with 1 Axes>"
            ],
            "image/png": "[encoded data removed]"
          },
          "metadata": {}
        }
      ],
      "source": [
        "NN = NeuralNetwork()\n",
        "\n",
        "err = []\n",
        "for i in range(10000):\n",
        "    NN.train(X,Y)\n",
        "    err.append(np.mean(np.square(Y - NN.feedForward(X))))\n",
        "\n",
        "plt.plot(err)"
      ]
    },
    {
      "cell_type": "code",
      "execution_count": 7,
      "id": "b914a17c",
      "metadata": {
        "colab": {
          "base_uri": "https://localhost:8080/"
        },
        "id": "b914a17c",
        "outputId": "5553e5cc-5997-471d-9916-ebfe84305767"
      },
      "outputs": [
        {
          "output_type": "stream",
          "name": "stdout",
          "text": [
            "[1. 0. 0. 0.]\n"
          ]
        }
      ],
      "source": [
        "print(NN.feedForward([0,0]))"
      ]
    },
    {
      "cell_type": "code",
      "execution_count": 8,
      "id": "5cce9cbe",
      "metadata": {
        "colab": {
          "base_uri": "https://localhost:8080/"
        },
        "id": "5cce9cbe",
        "outputId": "3d2ee87c-b276-4178-b9f1-92ca4a0263e5"
      },
      "outputs": [
        {
          "output_type": "stream",
          "name": "stdout",
          "text": [
            "[1. 0. 0. 0.]\n"
          ]
        }
      ],
      "source": [
        "print(NN.feedForward([1,1]))"
      ]
    },
    {
      "cell_type": "code",
      "execution_count": 9,
      "id": "289bd6fe",
      "metadata": {
        "colab": {
          "base_uri": "https://localhost:8080/"
        },
        "id": "289bd6fe",
        "outputId": "80448e19-e6e4-4927-b544-db2dee99512c"
      },
      "outputs": [
        {
          "output_type": "stream",
          "name": "stdout",
          "text": [
            "[0. 1. 0. 0.]\n"
          ]
        }
      ],
      "source": [
        "print(NN.feedForward([1,0]))"
      ]
    },
    {
      "cell_type": "code",
      "execution_count": 10,
      "id": "79f92343",
      "metadata": {
        "colab": {
          "base_uri": "https://localhost:8080/"
        },
        "id": "79f92343",
        "outputId": "da076703-7bbf-4d71-f139-fd7a863052dc"
      },
      "outputs": [
        {
          "output_type": "stream",
          "name": "stdout",
          "text": [
            "[0. 1. 0. 0.]\n"
          ]
        }
      ],
      "source": [
        "print(NN.feedForward([0,1]))"
      ]
    }
  ],
  "metadata": {
    "kernelspec": {
      "display_name": "tf24_py38_gpu",
      "language": "python",
      "name": "tf24_gpu"
    },
    "language_info": {
      "codemirror_mode": {
        "name": "ipython",
        "version": 3
      },
      "file_extension": ".py",
      "mimetype": "text/x-python",
      "name": "python",
      "nbconvert_exporter": "python",
      "pygments_lexer": "ipython3",
      "version": "3.8.8"
    },
    "colab": {
      "provenance": []
    }
  },
  "nbformat": 4,
  "nbformat_minor": 5
}
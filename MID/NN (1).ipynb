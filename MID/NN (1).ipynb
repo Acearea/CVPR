{
  "cells": [
    {
      "cell_type": "code",
      "execution_count": 11,
      "id": "af9c3351",
      "metadata": {
        "id": "af9c3351"
      },
      "outputs": [],
      "source": [
        "import numpy as np\n",
        "import matplotlib.pyplot as plt\n",
        "\n",
        "np.random.seed(0)\n",
        "X = np.array([ [0,0], [0,1], [1,0], [1,1] ])\n",
        "Y = np.array([ [1, 0, 1, 0], [0, 1, 1, 0], [0, 1, 0, 1], [1, 0, 0, 1] ])"
      ]
    },
    {
      "cell_type": "code",
      "execution_count": 12,
      "id": "f460d8c7",
      "metadata": {
        "id": "f460d8c7"
      },
      "outputs": [],
      "source": [
        "class NeuralNetwork(object):\n",
        "    def __init__(self):\n",
        "        inputLayerNeurons = 2\n",
        "        hiddenLayer1Neurons = 10\n",
        "        hiddenLayer2Neurons = 8\n",
        "        outLayerNeurons = 4\n",
        "\n",
        "        self.learning_rate = 0.2\n",
        "        self.W_HI1 = np.random.randn(inputLayerNeurons, hiddenLayer1Neurons)\n",
        "        self.W_H1H2 = np.random.randn(hiddenLayer1Neurons, hiddenLayer2Neurons)\n",
        "        self.W_OH2 = np.random.randn(hiddenLayer2Neurons, outLayerNeurons)\n",
        "\n",
        "    def sigmoid(self, x, der=False):\n",
        "        if der == True:\n",
        "            return x * (1-x)\n",
        "        else:\n",
        "            return 1 / (1 + np.exp(-x))\n",
        "\n",
        "    def feedForward(self, X):\n",
        "        hidden_input1 = np.dot(X, self.W_HI1)\n",
        "        self.hidden_output1 = self.sigmoid(hidden_input1)\n",
        "\n",
        "        hidden_input2 = np.dot(self.hidden_output1, self.W_H1H2)\n",
        "        self.hidden_output2 = self.sigmoid(hidden_input2)\n",
        "\n",
        "        output_input = np.dot(self.hidden_output2, self.W_OH2)\n",
        "        pred = self.sigmoid(output_input)\n",
        "\n",
        "        rounded_pred = np.copy(pred)\n",
        "        rounded_pred[rounded_pred > 0.95] = 1\n",
        "        rounded_pred[rounded_pred < 0.05] = 0\n",
        "        return rounded_pred\n",
        "\n",
        "    def backPropagation(self, X, Y, pred):\n",
        "        output_error = Y - pred\n",
        "        output_delta = self.learning_rate * output_error * self.sigmoid(pred, der=True)\n",
        "\n",
        "        hidden_error2 = output_delta.dot(self.W_OH2.T)\n",
        "        hidden_delta2 = self.learning_rate * hidden_error2 * self.sigmoid(self.hidden_output2, der=True)\n",
        "\n",
        "        hidden_error1 = hidden_delta2.dot(self.W_H1H2.T)\n",
        "        hidden_delta1 = self.learning_rate * hidden_error1 * self.sigmoid(self.hidden_output1, der=True)\n",
        "\n",
        "\n",
        "        self.W_HI1 += X.T.dot(hidden_delta1)\n",
        "        self.W_H1H2 += self.hidden_output1.T.dot(hidden_delta2)\n",
        "        self.W_OH2 += self.hidden_output2.T.dot(output_delta)\n",
        "\n",
        "    def train(self, X, Y):\n",
        "        output = self.feedForward(X)\n",
        "        self.backPropagation(X, Y, output)"
      ]
    },
    {
      "cell_type": "code",
      "execution_count": 13,
      "id": "b881dc37",
      "metadata": {
        "colab": {
          "base_uri": "https://localhost:8080/",
          "height": 447
        },
        "id": "b881dc37",
        "outputId": "a60c137f-6339-40c0-e730-a673b8e32389"
      },
      "outputs": [
        {
          "output_type": "execute_result",
          "data": {
            "text/plain": [
              "[<matplotlib.lines.Line2D at 0x7ab6585283b0>]"
            ]
          },
          "metadata": {},
          "execution_count": 13
        },
        {
          "output_type": "display_data",
          "data": {
            "text/plain": [
              "<Figure size 640x480 with 1 Axes>"
            ],
            "image/png": "[encoded data removed]"
          },
          "metadata": {}
        }
      ],
      "source": [
        "NN = NeuralNetwork()\n",
        "\n",
        "err = []\n",
        "for i in range(10000):\n",
        "    NN.train(X,Y)\n",
        "    err.append(np.mean(np.square(Y - NN.feedForward(X))))\n",
        "\n",
        "plt.plot(err)"
      ]
    },
    {
      "cell_type": "code",
      "execution_count": 14,
      "id": "b914a17c",
      "metadata": {
        "colab": {
          "base_uri": "https://localhost:8080/"
        },
        "id": "b914a17c",
        "outputId": "91fc077c-d9d7-4903-9919-72ff7ccac0a0"
      },
      "outputs": [
        {
          "output_type": "stream",
          "name": "stdout",
          "text": [
            "[1. 0. 1. 0.]\n"
          ]
        }
      ],
      "source": [
        "print(NN.feedForward([0,0]))"
      ]
    },
    {
      "cell_type": "code",
      "execution_count": 15,
      "id": "5cce9cbe",
      "metadata": {
        "colab": {
          "base_uri": "https://localhost:8080/"
        },
        "id": "5cce9cbe",
        "outputId": "709e01c0-0797-4c26-c2c9-14eebcce7b9e"
      },
      "outputs": [
        {
          "output_type": "stream",
          "name": "stdout",
          "text": [
            "[1. 0. 0. 1.]\n"
          ]
        }
      ],
      "source": [
        "print(NN.feedForward([1,1]))"
      ]
    },
    {
      "cell_type": "code",
      "execution_count": 16,
      "id": "289bd6fe",
      "metadata": {
        "colab": {
          "base_uri": "https://localhost:8080/"
        },
        "id": "289bd6fe",
        "outputId": "8ef4d869-973c-4585-c74f-935257f0225a"
      },
      "outputs": [
        {
          "output_type": "stream",
          "name": "stdout",
          "text": [
            "[0. 1. 0. 1.]\n"
          ]
        }
      ],
      "source": [
        "print(NN.feedForward([1,0]))"
      ]
    },
    {
      "cell_type": "code",
      "execution_count": 17,
      "id": "79f92343",
      "metadata": {
        "colab": {
          "base_uri": "https://localhost:8080/"
        },
        "id": "79f92343",
        "outputId": "9bedc7a7-f45d-4fc1-d411-c087427fee99"
      },
      "outputs": [
        {
          "output_type": "stream",
          "name": "stdout",
          "text": [
            "[0. 1. 1. 0.]\n"
          ]
        }
      ],
      "source": [
        "print(NN.feedForward([0,1]))"
      ]
    }
  ],
  "metadata": {
    "kernelspec": {
      "display_name": "tf24_py38_gpu",
      "language": "python",
      "name": "tf24_gpu"
    },
    "language_info": {
      "codemirror_mode": {
        "name": "ipython",
        "version": 3
      },
      "file_extension": ".py",
      "mimetype": "text/x-python",
      "name": "python",
      "nbconvert_exporter": "python",
      "pygments_lexer": "ipython3",
      "version": "3.8.8"
    },
    "colab": {
      "provenance": []
    }
  },
  "nbformat": 4,
  "nbformat_minor": 5
}